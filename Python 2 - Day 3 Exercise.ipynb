{
 "cells": [
  {
   "cell_type": "markdown",
   "metadata": {},
   "source": [
    "Exercise 1: \n",
    "\n",
    "Write a function that accepts two parameters: a city name and a country name. the function should return a single string of the form City, Country like <i>Anchorage, United States</i>. \n",
    "\n",
    "Using a doctest method, write a test case and make sure your test passes.\n"
   ]
  },
  {
   "cell_type": "code",
   "execution_count": 1,
   "metadata": {},
   "outputs": [
    {
     "data": {
      "text/plain": [
       "TestResults(failed=0, attempted=1)"
      ]
     },
     "execution_count": 1,
     "metadata": {},
     "output_type": "execute_result"
    }
   ],
   "source": [
    "import doctest\n",
    "\n",
    "def city(name, country):\n",
    "    \"\"\"\n",
    "    Function that accepts city name and country. Returns \"name, country\"\n",
    "    >>> city(\"Dunkirk\", \"United States\")\n",
    "    'Dunkirk, United States'\n",
    "    \"\"\"\n",
    "    return f\"{name}, {country}\"\n",
    "\n",
    "doctest.testmod()"
   ]
  },
  {
   "cell_type": "markdown",
   "metadata": {},
   "source": [
    "Exercise 2:\n",
    "\n",
    "Modify your function from Exercise 1 so it requires a third parameter, population. It should now return a signle string of the form City, Country - population xxx, such as <i>\"Anchorage, United States - population 288,000\"</i>. Run your test again and make sure it fails.\n",
    "\n",
    "Modify the function so the population parameter is optional. Run your previous test case and make sure it passes this time.\n",
    "\n",
    "Write a second test that verifies you can call your function with the values <i>Anchorage, United States,and 288000</i>. Run the test and make sure all your test cases pass."
   ]
  },
  {
   "cell_type": "code",
   "execution_count": 2,
   "metadata": {},
   "outputs": [
    {
     "data": {
      "text/plain": [
       "TestResults(failed=0, attempted=3)"
      ]
     },
     "execution_count": 2,
     "metadata": {},
     "output_type": "execute_result"
    }
   ],
   "source": [
    "import doctest\n",
    "\n",
    "def cities(name, country, population = None):\n",
    "    \"\"\"\n",
    "    Function that accepts city name and country and population. Returns \"name, country\" or \"name, country - population\"\n",
    "    if population exists\n",
    "\n",
    "    >>> cities(\"Dunkirk\", \"United States\", 11950)\n",
    "    'Dunkirk, United States - population 11,950'\n",
    "\n",
    "    >>> cities(\"Dunkirk\", \"United States\")\n",
    "    'Dunkirk, United States'\n",
    "    \"\"\"\n",
    "    if population:\n",
    "        return f\"{name}, {country} - population {population:,}\"\n",
    "    else:\n",
    "        return f\"{name}, {country}\"\n",
    "\n",
    "doctest.testmod()"
   ]
  },
  {
   "cell_type": "markdown",
   "metadata": {},
   "source": [
    "Exercise 3: \n",
    "\n",
    "Save above function in <b>city_functions.py</b>. Write test cases for the function using unittest module and save it to a file called <b>test_cities.py</b>. \n",
    "\n",
    "    Write a method called test_city_country() to verify that calling your function with city and country parameters results in the correct string. \n",
    "\n",
    "    Write a second test called test_city_country_population() that verifies you can call your function with city, country, and population parameters results in the correct string. \n",
    "    \n",
    "Run test_cities.py and make sure all your tests pass."
   ]
  },
  {
   "cell_type": "code",
   "execution_count": 7,
   "metadata": {},
   "outputs": [],
   "source": [
    "import unittest\n",
    "\n",
    "from cities_functions import cities\n",
    "#Imports city function\n",
    "\n",
    "class TestCities(unittest.TestCase):\n",
    "    \"\"\"Test case with/without \"population\" \"\"\"\n",
    "\n",
    "    def test_city_country(self):\n",
    "        result = cities(\"Dunkirk\", \"United States\")\n",
    "        self.assertEqual(result, \"Dunkirk, United States\")\n",
    "\n",
    "    def test_city_country_population(self):\n",
    "        result1 = cities(\"Dunkirk\", \"United States\", 11950)\n",
    "        self.assertEqual(result1, \"Dunkirk, United States - population 11,950\")\n",
    "        \n"
   ]
  },
  {
   "cell_type": "markdown",
   "metadata": {},
   "source": [
    "Exercise 4:\n",
    "\n",
    "Write a class called Employee with private attributes to store a first name, a last name, and an annual salary. Write a method called give_raise() that adds 2% (of employee's current annual salary) to the annual salary by default but also accepts a different raise rate.\n",
    "\n",
    "Write a test case for Employee. Write two test methods, <b>test_give_default_raise()</b> and <b>test_give_custom_raise()</b>. Use the <b>setUp()</b> method so you don't have to create a new employee instance in each test method. \n",
    "\n",
    "Run your test case and make sure all tests pass.\n",
    "    \n",
    "    "
   ]
  },
  {
   "cell_type": "code",
   "execution_count": null,
   "metadata": {},
   "outputs": [],
   "source": [
    "class Employee:\n",
    "    \n",
    "    def __init__(self, first, last, salary):\n",
    "        self.__first = first\n",
    "        self.__last = last\n",
    "        self.__salary = salary\n",
    "        self.__fullname = self.__first + \" \" + self.__last \n",
    "        self.__rate = .02\n",
    "        \n",
    "    def give_raise(self, rate = .02):\n",
    "        get_annual = (self.__salary * rate) + self.__salary\n",
    "        self.__salary += get_annual\n",
    "        return self.__salary\n",
    "    \n",
    "    def get_info(self):\n",
    "        print(f\"Name: {self.__fullname}\\nSalary: ${self.__salary:,.2f}\\n\")\n",
    "        \n",
    "e1 = Employee(\"Nick\", \"Moore\", 50000)\n",
    "e1.get_info()\n",
    "e1.give_raise()\n",
    "e1.get_info()\n"
   ]
  },
  {
   "cell_type": "code",
   "execution_count": null,
   "metadata": {},
   "outputs": [],
   "source": [
    "import unittest\n",
    "\n",
    "from employee_class import Employee\n",
    "\n",
    "class TestEmployee(unittest.TestCase):\n",
    "\n",
    "    def setUp(self):\n",
    "        self.employee = Employee(\"Nick\", \"Moore\", \"50000\")\n",
    "\n",
    "    def test_give_default_raise(self):\n",
    "        self.assertEqual(self.employee.give_raise(), 51000)\n",
    "\n",
    "    def test_give_custom_raise(self):\n",
    "        self.assertEqual(self.employee.give_raise(.05), 52500)"
   ]
  },
  {
   "cell_type": "markdown",
   "metadata": {},
   "source": [
    "Exercise 5: \n",
    "\n"
   ]
  }
 ],
 "metadata": {
  "kernelspec": {
   "display_name": "Python 3",
   "language": "python",
   "name": "python3"
  },
  "language_info": {
   "codemirror_mode": {
    "name": "ipython",
    "version": 3
   },
   "file_extension": ".py",
   "mimetype": "text/x-python",
   "name": "python",
   "nbconvert_exporter": "python",
   "pygments_lexer": "ipython3",
   "version": "3.8.3"
  }
 },
 "nbformat": 4,
 "nbformat_minor": 4
}
